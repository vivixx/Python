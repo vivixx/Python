{
 "cells": [
  {
   "cell_type": "code",
   "execution_count": 4,
   "id": "4f530200",
   "metadata": {},
   "outputs": [
    {
     "name": "stdout",
     "output_type": "stream",
     "text": [
      "Ainda não deu\n",
      "Ainda não deu\n",
      "Ainda não deu\n",
      "Ainda não deu\n",
      "Ainda não deu\n",
      "Ainda não deu\n",
      "Ainda não deu\n",
      "Ainda não deu\n",
      "Ainda não deu\n",
      "Ainda não deu\n",
      "Agora deu BB\n"
     ]
    }
   ],
   "source": [
    "contador = 0\n",
    "while contador < 10:\n",
    "    print('Ainda não deu')\n",
    "    contador = contador +1\n",
    "print ('Agora deu BB')"
   ]
  },
  {
   "cell_type": "code",
   "execution_count": null,
   "id": "0e276538",
   "metadata": {},
   "outputs": [],
   "source": []
  }
 ],
 "metadata": {
  "kernelspec": {
   "display_name": "Python 3 (ipykernel)",
   "language": "python",
   "name": "python3"
  },
  "language_info": {
   "codemirror_mode": {
    "name": "ipython",
    "version": 3
   },
   "file_extension": ".py",
   "mimetype": "text/x-python",
   "name": "python",
   "nbconvert_exporter": "python",
   "pygments_lexer": "ipython3",
   "version": "3.9.7"
  }
 },
 "nbformat": 4,
 "nbformat_minor": 5
}
